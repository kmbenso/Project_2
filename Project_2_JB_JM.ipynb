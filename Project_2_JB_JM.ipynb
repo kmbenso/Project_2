{
 "cells": [
  {
   "cell_type": "markdown",
   "metadata": {},
   "source": [
    "# Project 2:  Lucid Titanic Sleuthing"
   ]
  },
  {
   "cell_type": "markdown",
   "metadata": {},
   "source": [
    "## Part 1: Developing an understanding of the data"
   ]
  },
  {
   "cell_type": "markdown",
   "metadata": {},
   "source": [
    "#### Based on the description of the data you read in the readme describe in your own words this data."
   ]
  },
  {
   "cell_type": "markdown",
   "metadata": {},
   "source": [
    "This dataset profiles the passengers on both the Titanic and Lusitania ships.  It gives their survival status, name, age, gender, class, hometown, etc. "
   ]
  },
  {
   "cell_type": "markdown",
   "metadata": {},
   "source": [
    "#### Based on our conceptual understanding of the columns in this data set.  What are the reasonable range of the values for the Sex, Age, SibSp, Parch columns."
   ]
  },
  {
   "cell_type": "markdown",
   "metadata": {
    "collapsed": false
   },
   "source": [
    "Sex - male or femle\n",
    "age - <100\n",
    "SibSp - all numbers are under 10, most closer to 0 than 10\n",
    "Parch - all numbers are under 10, most closer to 0 than 10"
   ]
  },
  {
   "cell_type": "markdown",
   "metadata": {},
   "source": [
    "### Open the data in sublime text is there anything that jumps out to you?"
   ]
  },
  {
   "cell_type": "code",
   "execution_count": null,
   "metadata": {
    "collapsed": false
   },
   "outputs": [],
   "source": [
    "Titanic data seems pretty complete.  Lusitania data has a lot of missing values, and inconsistencies - ie, ages in presumably years and then months, question marks, etc.  "
   ]
  },
  {
   "cell_type": "markdown",
   "metadata": {},
   "source": [
    "## Part 2: reading the data in"
   ]
  },
  {
   "cell_type": "markdown",
   "metadata": {},
   "source": [
    "#### Now read the data into a Pandas DataFrame"
   ]
  },
  {
   "cell_type": "code",
   "execution_count": 230,
   "metadata": {
    "collapsed": false
   },
   "outputs": [
    {
     "data": {
      "text/html": [
       "<div>\n",
       "<table border=\"1\" class=\"dataframe\">\n",
       "  <thead>\n",
       "    <tr style=\"text-align: right;\">\n",
       "      <th></th>\n",
       "      <th>pclass</th>\n",
       "      <th>survived</th>\n",
       "      <th>name</th>\n",
       "      <th>sex</th>\n",
       "      <th>age</th>\n",
       "      <th>sibsp</th>\n",
       "      <th>parch</th>\n",
       "      <th>ticket</th>\n",
       "      <th>fare</th>\n",
       "      <th>cabin</th>\n",
       "      <th>embarked</th>\n",
       "      <th>boat</th>\n",
       "      <th>body</th>\n",
       "      <th>home.dest</th>\n",
       "    </tr>\n",
       "  </thead>\n",
       "  <tbody>\n",
       "    <tr>\n",
       "      <th>0</th>\n",
       "      <td>1</td>\n",
       "      <td>1</td>\n",
       "      <td>Allen, Miss. Elisabeth Walton</td>\n",
       "      <td>female</td>\n",
       "      <td>29.00</td>\n",
       "      <td>0</td>\n",
       "      <td>0</td>\n",
       "      <td>24160</td>\n",
       "      <td>211.3375</td>\n",
       "      <td>B5</td>\n",
       "      <td>S</td>\n",
       "      <td>2</td>\n",
       "      <td>NaN</td>\n",
       "      <td>St Louis, MO</td>\n",
       "    </tr>\n",
       "    <tr>\n",
       "      <th>1</th>\n",
       "      <td>1</td>\n",
       "      <td>1</td>\n",
       "      <td>Allison, Master. Hudson Trevor</td>\n",
       "      <td>male</td>\n",
       "      <td>0.92</td>\n",
       "      <td>1</td>\n",
       "      <td>2</td>\n",
       "      <td>113781</td>\n",
       "      <td>151.5500</td>\n",
       "      <td>C22 C26</td>\n",
       "      <td>S</td>\n",
       "      <td>11</td>\n",
       "      <td>NaN</td>\n",
       "      <td>Montreal, PQ / Chesterville, ON</td>\n",
       "    </tr>\n",
       "    <tr>\n",
       "      <th>2</th>\n",
       "      <td>1</td>\n",
       "      <td>0</td>\n",
       "      <td>Allison, Miss. Helen Loraine</td>\n",
       "      <td>female</td>\n",
       "      <td>2.00</td>\n",
       "      <td>1</td>\n",
       "      <td>2</td>\n",
       "      <td>113781</td>\n",
       "      <td>151.5500</td>\n",
       "      <td>C22 C26</td>\n",
       "      <td>S</td>\n",
       "      <td>NaN</td>\n",
       "      <td>NaN</td>\n",
       "      <td>Montreal, PQ / Chesterville, ON</td>\n",
       "    </tr>\n",
       "    <tr>\n",
       "      <th>3</th>\n",
       "      <td>1</td>\n",
       "      <td>0</td>\n",
       "      <td>Allison, Mr. Hudson Joshua Creighton</td>\n",
       "      <td>male</td>\n",
       "      <td>30.00</td>\n",
       "      <td>1</td>\n",
       "      <td>2</td>\n",
       "      <td>113781</td>\n",
       "      <td>151.5500</td>\n",
       "      <td>C22 C26</td>\n",
       "      <td>S</td>\n",
       "      <td>NaN</td>\n",
       "      <td>135.0</td>\n",
       "      <td>Montreal, PQ / Chesterville, ON</td>\n",
       "    </tr>\n",
       "    <tr>\n",
       "      <th>4</th>\n",
       "      <td>1</td>\n",
       "      <td>0</td>\n",
       "      <td>Allison, Mrs. Hudson J C (Bessie Waldo Daniels)</td>\n",
       "      <td>female</td>\n",
       "      <td>25.00</td>\n",
       "      <td>1</td>\n",
       "      <td>2</td>\n",
       "      <td>113781</td>\n",
       "      <td>151.5500</td>\n",
       "      <td>C22 C26</td>\n",
       "      <td>S</td>\n",
       "      <td>NaN</td>\n",
       "      <td>NaN</td>\n",
       "      <td>Montreal, PQ / Chesterville, ON</td>\n",
       "    </tr>\n",
       "  </tbody>\n",
       "</table>\n",
       "</div>"
      ],
      "text/plain": [
       "   pclass  survived                                             name     sex  \\\n",
       "0       1         1                    Allen, Miss. Elisabeth Walton  female   \n",
       "1       1         1                   Allison, Master. Hudson Trevor    male   \n",
       "2       1         0                     Allison, Miss. Helen Loraine  female   \n",
       "3       1         0             Allison, Mr. Hudson Joshua Creighton    male   \n",
       "4       1         0  Allison, Mrs. Hudson J C (Bessie Waldo Daniels)  female   \n",
       "\n",
       "     age  sibsp  parch  ticket      fare    cabin embarked boat   body  \\\n",
       "0  29.00      0      0   24160  211.3375       B5        S    2    NaN   \n",
       "1   0.92      1      2  113781  151.5500  C22 C26        S   11    NaN   \n",
       "2   2.00      1      2  113781  151.5500  C22 C26        S  NaN    NaN   \n",
       "3  30.00      1      2  113781  151.5500  C22 C26        S  NaN  135.0   \n",
       "4  25.00      1      2  113781  151.5500  C22 C26        S  NaN    NaN   \n",
       "\n",
       "                         home.dest  \n",
       "0                     St Louis, MO  \n",
       "1  Montreal, PQ / Chesterville, ON  \n",
       "2  Montreal, PQ / Chesterville, ON  \n",
       "3  Montreal, PQ / Chesterville, ON  \n",
       "4  Montreal, PQ / Chesterville, ON  "
      ]
     },
     "execution_count": 230,
     "metadata": {},
     "output_type": "execute_result"
    }
   ],
   "source": [
    "import pandas as pd\n",
    "\n",
    "import numpy as np\n",
    "titanic = pd.read_csv(\"/Users/karibenson/dsi/dsi-workspace/project-02/assets/titanic.csv\")\n",
    "titanic.head()"
   ]
  },
  {
   "cell_type": "code",
   "execution_count": 231,
   "metadata": {
    "collapsed": false
   },
   "outputs": [
    {
     "data": {
      "text/html": [
       "<div>\n",
       "<table border=\"1\" class=\"dataframe\">\n",
       "  <thead>\n",
       "    <tr style=\"text-align: right;\">\n",
       "      <th></th>\n",
       "      <th>Family name</th>\n",
       "      <th>Title</th>\n",
       "      <th>Personal name</th>\n",
       "      <th>Fate</th>\n",
       "      <th>Age</th>\n",
       "      <th>Department/Class</th>\n",
       "      <th>Passenger/Crew</th>\n",
       "      <th>Citizenship</th>\n",
       "      <th>Position</th>\n",
       "      <th>Status</th>\n",
       "      <th>...</th>\n",
       "      <th>Country</th>\n",
       "      <th>Lifeboat</th>\n",
       "      <th>Rescue Vessel</th>\n",
       "      <th>Body No.</th>\n",
       "      <th>Ticket No.</th>\n",
       "      <th>Cabin No.</th>\n",
       "      <th>Traveling Companions and other notes</th>\n",
       "      <th>Value</th>\n",
       "      <th>Adult/Minor</th>\n",
       "      <th>Sex</th>\n",
       "    </tr>\n",
       "  </thead>\n",
       "  <tbody>\n",
       "    <tr>\n",
       "      <th>0</th>\n",
       "      <td>CAMERON</td>\n",
       "      <td>Mr.</td>\n",
       "      <td>Charles W.</td>\n",
       "      <td>Lost</td>\n",
       "      <td>38</td>\n",
       "      <td>Band</td>\n",
       "      <td>Crew</td>\n",
       "      <td>British</td>\n",
       "      <td>NaN</td>\n",
       "      <td>NaN</td>\n",
       "      <td>...</td>\n",
       "      <td>NaN</td>\n",
       "      <td>NaN</td>\n",
       "      <td>NaN</td>\n",
       "      <td>NaN</td>\n",
       "      <td>NaN</td>\n",
       "      <td>NaN</td>\n",
       "      <td>NaN</td>\n",
       "      <td>1</td>\n",
       "      <td>Adult</td>\n",
       "      <td>Male</td>\n",
       "    </tr>\n",
       "    <tr>\n",
       "      <th>1</th>\n",
       "      <td>CARR-JONES</td>\n",
       "      <td>Mr.</td>\n",
       "      <td>E.</td>\n",
       "      <td>Lost</td>\n",
       "      <td>37</td>\n",
       "      <td>Band</td>\n",
       "      <td>Crew</td>\n",
       "      <td>British</td>\n",
       "      <td>NaN</td>\n",
       "      <td>NaN</td>\n",
       "      <td>...</td>\n",
       "      <td>NaN</td>\n",
       "      <td>NaN</td>\n",
       "      <td>NaN</td>\n",
       "      <td>NaN</td>\n",
       "      <td>NaN</td>\n",
       "      <td>NaN</td>\n",
       "      <td>NaN</td>\n",
       "      <td>1</td>\n",
       "      <td>Adult</td>\n",
       "      <td>Male</td>\n",
       "    </tr>\n",
       "    <tr>\n",
       "      <th>2</th>\n",
       "      <td>DRAKEFORD</td>\n",
       "      <td>Mr.</td>\n",
       "      <td>Edward</td>\n",
       "      <td>Saved</td>\n",
       "      <td>30</td>\n",
       "      <td>Band</td>\n",
       "      <td>Crew</td>\n",
       "      <td>British</td>\n",
       "      <td>Violin</td>\n",
       "      <td>NaN</td>\n",
       "      <td>...</td>\n",
       "      <td>NaN</td>\n",
       "      <td>NaN</td>\n",
       "      <td>NaN</td>\n",
       "      <td>NaN</td>\n",
       "      <td>NaN</td>\n",
       "      <td>NaN</td>\n",
       "      <td>NaN</td>\n",
       "      <td>1</td>\n",
       "      <td>Adult</td>\n",
       "      <td>Male</td>\n",
       "    </tr>\n",
       "    <tr>\n",
       "      <th>3</th>\n",
       "      <td>HAWKINS</td>\n",
       "      <td>Mr.</td>\n",
       "      <td>Handel</td>\n",
       "      <td>Saved</td>\n",
       "      <td>25</td>\n",
       "      <td>Band</td>\n",
       "      <td>Crew</td>\n",
       "      <td>British</td>\n",
       "      <td>Cello</td>\n",
       "      <td>NaN</td>\n",
       "      <td>...</td>\n",
       "      <td>NaN</td>\n",
       "      <td>NaN</td>\n",
       "      <td>NaN</td>\n",
       "      <td>NaN</td>\n",
       "      <td>NaN</td>\n",
       "      <td>NaN</td>\n",
       "      <td>NaN</td>\n",
       "      <td>1</td>\n",
       "      <td>Adult</td>\n",
       "      <td>Male</td>\n",
       "    </tr>\n",
       "    <tr>\n",
       "      <th>4</th>\n",
       "      <td>HEMINGWAY</td>\n",
       "      <td>Mr.</td>\n",
       "      <td>John William</td>\n",
       "      <td>Saved</td>\n",
       "      <td>27</td>\n",
       "      <td>Band</td>\n",
       "      <td>Crew</td>\n",
       "      <td>British</td>\n",
       "      <td>Double Bass</td>\n",
       "      <td>NaN</td>\n",
       "      <td>...</td>\n",
       "      <td>NaN</td>\n",
       "      <td>NaN</td>\n",
       "      <td>NaN</td>\n",
       "      <td>NaN</td>\n",
       "      <td>NaN</td>\n",
       "      <td>NaN</td>\n",
       "      <td>NaN</td>\n",
       "      <td>1</td>\n",
       "      <td>Adult</td>\n",
       "      <td>Male</td>\n",
       "    </tr>\n",
       "  </tbody>\n",
       "</table>\n",
       "<p>5 rows × 23 columns</p>\n",
       "</div>"
      ],
      "text/plain": [
       "  Family name Title Personal name   Fate Age Department/Class Passenger/Crew  \\\n",
       "0     CAMERON   Mr.    Charles W.   Lost  38             Band           Crew   \n",
       "1  CARR-JONES   Mr.            E.   Lost  37             Band           Crew   \n",
       "2   DRAKEFORD   Mr.        Edward  Saved  30             Band           Crew   \n",
       "3     HAWKINS   Mr.        Handel  Saved  25             Band           Crew   \n",
       "4   HEMINGWAY   Mr.  John William  Saved  27             Band           Crew   \n",
       "\n",
       "  Citizenship     Position Status  ...  Country Lifeboat Rescue Vessel  \\\n",
       "0     British          NaN    NaN  ...      NaN      NaN           NaN   \n",
       "1     British          NaN    NaN  ...      NaN      NaN           NaN   \n",
       "2     British       Violin    NaN  ...      NaN      NaN           NaN   \n",
       "3     British        Cello    NaN  ...      NaN      NaN           NaN   \n",
       "4     British  Double Bass    NaN  ...      NaN      NaN           NaN   \n",
       "\n",
       "  Body No. Ticket No. Cabin No. Traveling Companions and other notes Value  \\\n",
       "0      NaN        NaN       NaN                                  NaN     1   \n",
       "1      NaN        NaN       NaN                                  NaN     1   \n",
       "2      NaN        NaN       NaN                                  NaN     1   \n",
       "3      NaN        NaN       NaN                                  NaN     1   \n",
       "4      NaN        NaN       NaN                                  NaN     1   \n",
       "\n",
       "  Adult/Minor   Sex  \n",
       "0       Adult  Male  \n",
       "1       Adult  Male  \n",
       "2       Adult  Male  \n",
       "3       Adult  Male  \n",
       "4       Adult  Male  \n",
       "\n",
       "[5 rows x 23 columns]"
      ]
     },
     "execution_count": 231,
     "metadata": {},
     "output_type": "execute_result"
    }
   ],
   "source": [
    "lusitania = pd.read_csv(\"/Users/karibenson/dsi/dsi-workspace/project-02/assets/lusitania.csv\")\n",
    "lusitania.head()\n",
    "\n"
   ]
  },
  {
   "cell_type": "markdown",
   "metadata": {},
   "source": [
    "#### Check that the age column doesn't have any unreasonable values "
   ]
  },
  {
   "cell_type": "code",
   "execution_count": 234,
   "metadata": {
    "collapsed": true
   },
   "outputs": [
    {
     "data": {
      "text/plain": [
       "0       29.00\n",
       "1        0.92\n",
       "2        2.00\n",
       "3       30.00\n",
       "4       25.00\n",
       "5       48.00\n",
       "6       63.00\n",
       "7       39.00\n",
       "8       53.00\n",
       "9       71.00\n",
       "10      47.00\n",
       "11      18.00\n",
       "12      24.00\n",
       "13      26.00\n",
       "14      80.00\n",
       "15        NaN\n",
       "16      24.00\n",
       "17      50.00\n",
       "18      32.00\n",
       "19      36.00\n",
       "20      37.00\n",
       "21      47.00\n",
       "22      26.00\n",
       "23      42.00\n",
       "24      29.00\n",
       "25      25.00\n",
       "26      25.00\n",
       "27      19.00\n",
       "28      35.00\n",
       "29      28.00\n",
       "        ...  \n",
       "1279    14.00\n",
       "1280    22.00\n",
       "1281    22.00\n",
       "1282      NaN\n",
       "1283      NaN\n",
       "1284      NaN\n",
       "1285    32.50\n",
       "1286    38.00\n",
       "1287    51.00\n",
       "1288    18.00\n",
       "1289    21.00\n",
       "1290    47.00\n",
       "1291      NaN\n",
       "1292      NaN\n",
       "1293      NaN\n",
       "1294    28.50\n",
       "1295    21.00\n",
       "1296    27.00\n",
       "1297      NaN\n",
       "1298    36.00\n",
       "1299    27.00\n",
       "1300    15.00\n",
       "1301    45.50\n",
       "1302      NaN\n",
       "1303      NaN\n",
       "1304    14.50\n",
       "1305      NaN\n",
       "1306    26.50\n",
       "1307    27.00\n",
       "1308    29.00\n",
       "Name: age, dtype: float64"
      ]
     },
     "execution_count": 234,
     "metadata": {},
     "output_type": "execute_result"
    }
   ],
   "source": [
    "titanic['age']\n"
   ]
  },
  {
   "cell_type": "code",
   "execution_count": 235,
   "metadata": {
    "collapsed": true
   },
   "outputs": [
    {
     "data": {
      "text/plain": [
       "0         38\n",
       "1         37\n",
       "2         30\n",
       "3         25\n",
       "4         27\n",
       "5         48\n",
       "6        NaN\n",
       "7        NaN\n",
       "8         24\n",
       "9       19 ?\n",
       "10        57\n",
       "11        50\n",
       "12       NaN\n",
       "13       NaN\n",
       "14       NaN\n",
       "15       NaN\n",
       "16       NaN\n",
       "17       NaN\n",
       "18       NaN\n",
       "19       NaN\n",
       "20       NaN\n",
       "21       NaN\n",
       "22       NaN\n",
       "23        25\n",
       "24       NaN\n",
       "25        56\n",
       "26       NaN\n",
       "27        41\n",
       "28       NaN\n",
       "29       NaN\n",
       "        ... \n",
       "1931      44\n",
       "1932     NaN\n",
       "1933     NaN\n",
       "1934     NaN\n",
       "1935     NaN\n",
       "1936     NaN\n",
       "1937      27\n",
       "1938     NaN\n",
       "1939     NaN\n",
       "1940     NaN\n",
       "1941     NaN\n",
       "1942      51\n",
       "1943     NaN\n",
       "1944      23\n",
       "1945     NaN\n",
       "1946     NaN\n",
       "1947     NaN\n",
       "1948     NaN\n",
       "1949     NaN\n",
       "1950     NaN\n",
       "1951     NaN\n",
       "1952     NaN\n",
       "1953     NaN\n",
       "1954      31\n",
       "1955      35\n",
       "1956     NaN\n",
       "1957     NaN\n",
       "1958     NaN\n",
       "1959      16\n",
       "1960      37\n",
       "Name: Age, dtype: object"
      ]
     },
     "execution_count": 235,
     "metadata": {},
     "output_type": "execute_result"
    }
   ],
   "source": [
    "lusitania['Age']"
   ]
  },
  {
   "cell_type": "markdown",
   "metadata": {},
   "source": [
    "#### Check for missing values.  How do you know that a value is missing?"
   ]
  },
  {
   "cell_type": "code",
   "execution_count": 190,
   "metadata": {
    "collapsed": true
   },
   "outputs": [
    {
     "data": {
      "text/plain": [
       "0       False\n",
       "1       False\n",
       "2       False\n",
       "3       False\n",
       "4       False\n",
       "5       False\n",
       "6       False\n",
       "7       False\n",
       "8       False\n",
       "9       False\n",
       "10      False\n",
       "11      False\n",
       "12      False\n",
       "13      False\n",
       "14      False\n",
       "15       True\n",
       "16      False\n",
       "17      False\n",
       "18      False\n",
       "19      False\n",
       "20      False\n",
       "21      False\n",
       "22      False\n",
       "23      False\n",
       "24      False\n",
       "25      False\n",
       "26      False\n",
       "27      False\n",
       "28      False\n",
       "29      False\n",
       "        ...  \n",
       "1279    False\n",
       "1280    False\n",
       "1281    False\n",
       "1282     True\n",
       "1283     True\n",
       "1284     True\n",
       "1285    False\n",
       "1286    False\n",
       "1287    False\n",
       "1288    False\n",
       "1289    False\n",
       "1290    False\n",
       "1291     True\n",
       "1292     True\n",
       "1293     True\n",
       "1294    False\n",
       "1295    False\n",
       "1296    False\n",
       "1297     True\n",
       "1298    False\n",
       "1299    False\n",
       "1300    False\n",
       "1301    False\n",
       "1302     True\n",
       "1303     True\n",
       "1304    False\n",
       "1305     True\n",
       "1306    False\n",
       "1307    False\n",
       "1308    False\n",
       "Name: age, dtype: bool"
      ]
     },
     "execution_count": 190,
     "metadata": {},
     "output_type": "execute_result"
    }
   ],
   "source": [
    "titanic['age'].isnull()\n"
   ]
  },
  {
   "cell_type": "code",
   "execution_count": 191,
   "metadata": {
    "collapsed": true
   },
   "outputs": [
    {
     "data": {
      "text/plain": [
       "0       False\n",
       "1       False\n",
       "2       False\n",
       "3       False\n",
       "4       False\n",
       "5       False\n",
       "6        True\n",
       "7        True\n",
       "8       False\n",
       "9       False\n",
       "10      False\n",
       "11      False\n",
       "12       True\n",
       "13       True\n",
       "14       True\n",
       "15       True\n",
       "16       True\n",
       "17       True\n",
       "18       True\n",
       "19       True\n",
       "20       True\n",
       "21       True\n",
       "22       True\n",
       "23      False\n",
       "24       True\n",
       "25      False\n",
       "26       True\n",
       "27      False\n",
       "28       True\n",
       "29       True\n",
       "        ...  \n",
       "1931    False\n",
       "1932     True\n",
       "1933     True\n",
       "1934     True\n",
       "1935     True\n",
       "1936     True\n",
       "1937    False\n",
       "1938     True\n",
       "1939     True\n",
       "1940     True\n",
       "1941     True\n",
       "1942    False\n",
       "1943     True\n",
       "1944    False\n",
       "1945     True\n",
       "1946     True\n",
       "1947     True\n",
       "1948     True\n",
       "1949     True\n",
       "1950     True\n",
       "1951     True\n",
       "1952     True\n",
       "1953     True\n",
       "1954    False\n",
       "1955    False\n",
       "1956     True\n",
       "1957     True\n",
       "1958     True\n",
       "1959    False\n",
       "1960    False\n",
       "Name: Age, dtype: bool"
      ]
     },
     "execution_count": 191,
     "metadata": {},
     "output_type": "execute_result"
    }
   ],
   "source": [
    "lusitania['Age'].isnull()"
   ]
  },
  {
   "cell_type": "markdown",
   "metadata": {},
   "source": [
    "#### Does it makes sense to guess at the value?"
   ]
  },
  {
   "cell_type": "markdown",
   "metadata": {
    "collapsed": false
   },
   "source": [
    "Depends on the value.  We might be able to if we are given other information such as that person's title, travel companions, etc.  We can also look at typical values for other passengers. "
   ]
  },
  {
   "cell_type": "markdown",
   "metadata": {},
   "source": [
    "## Part 3: data imputation"
   ]
  },
  {
   "cell_type": "markdown",
   "metadata": {},
   "source": [
    "#### Well let’s say that it does... You likely noticed that Age has some missing values. How many are missing?"
   ]
  },
  {
   "cell_type": "code",
   "execution_count": 192,
   "metadata": {
    "collapsed": false
   },
   "outputs": [
    {
     "data": {
      "text/plain": [
       "263"
      ]
     },
     "execution_count": 192,
     "metadata": {},
     "output_type": "execute_result"
    }
   ],
   "source": [
    "#another way - pd.isnull(titanic[\"age\"]).sum()\n",
    "titanic[\"age\"].isnull().sum()\n"
   ]
  },
  {
   "cell_type": "code",
   "execution_count": 193,
   "metadata": {
    "collapsed": false
   },
   "outputs": [
    {
     "data": {
      "text/plain": [
       "653"
      ]
     },
     "execution_count": 193,
     "metadata": {},
     "output_type": "execute_result"
    }
   ],
   "source": [
    "lusitania['Age'].isnull().sum()"
   ]
  },
  {
   "cell_type": "markdown",
   "metadata": {},
   "source": [
    "#### For the Age of the passangers ... how would you guess at the missing values using the other data present in the CSV.\n",
    "For Titanic, I would determine the mean age and replace the missing values with the mean age.  \n",
    "For Lusitania, I would first change all of the values (months, ranges) into numeric floats.  I would average all\n",
    "ages in months or infant to be 1 year since they seem to span from 0 - 2 years.  I would strip all ages with question marks and go with the guessed age.  Anything that is still not a number I would remove from the data set."
   ]
  },
  {
   "cell_type": "code",
   "execution_count": 194,
   "metadata": {
    "collapsed": false
   },
   "outputs": [
    {
     "data": {
      "text/plain": [
       "29.881137667304014"
      ]
     },
     "execution_count": 194,
     "metadata": {},
     "output_type": "execute_result"
    }
   ],
   "source": [
    "titanic['age'].mean()"
   ]
  },
  {
   "cell_type": "code",
   "execution_count": 195,
   "metadata": {
    "collapsed": true
   },
   "outputs": [],
   "source": [
    "titanic['age'].fillna(30, inplace=True)"
   ]
  },
  {
   "cell_type": "code",
   "execution_count": 196,
   "metadata": {
    "collapsed": true
   },
   "outputs": [
    {
     "data": {
      "text/plain": [
       "array(['38', '37', '30', '25', '27', '48', nan, '24', '19 ?', '57', '50',\n",
       "       '56', '41', '19', '33', '29', '18', '20', '21', '26', '17', '58',\n",
       "       '47', '54', '35', '43', '59', '53', '44', '51', '40', '49', '42',\n",
       "       '32', '31', '34', '22', '45', '36', '29 ?', '52', '23', '60', '28',\n",
       "       '16', '46', '15', '39', '63 ?', '55', '64', '53 ?', '09-months',\n",
       "       '6', '9', '14', '10', '12', '?', '62', '5', '8', '65', '68', '76',\n",
       "       '61', '63', '03-months', '1.5', '2.5', '18-months', '3', '2',\n",
       "       '25 ?', '08-months', '4', '15-months', '14-months', 'Infant',\n",
       "       '3-6-months ?', '51 or 47', '45 or 51', '22 (?)', '17-months',\n",
       "       '13-months', '02-months', '49 ?', '05-months', '11', '59 (64?)',\n",
       "       '63 (51?)', '37 (39?)', '32 (22?)', '31 (32?)', '24 (23?)', '27?',\n",
       "       '7', '42?', '31 ?', '10-months', '38 (?)', '70', '62 (?)',\n",
       "       '06-months', '13', '2_', '11-months', '30 ?', '34?', '1',\n",
       "       '39 (47?)', '67', '73', '72', '11-months (3?)', '4.25', '69', '26?',\n",
       "       '54?', '21?', '16 ?'], dtype=object)"
      ]
     },
     "execution_count": 196,
     "metadata": {},
     "output_type": "execute_result"
    }
   ],
   "source": [
    "lusitania[\"Age\"].unique()"
   ]
  },
  {
   "cell_type": "code",
   "execution_count": 197,
   "metadata": {
    "collapsed": false,
    "scrolled": true
   },
   "outputs": [],
   "source": [
    "#another method:  lusitania['Age'] = lusitania['Age'].str.replace('.+months.+', '1')\n",
    "lusitania['Age'] = lusitania['Age'].str.replace('..-months','1')"
   ]
  },
  {
   "cell_type": "code",
   "execution_count": 198,
   "metadata": {
    "collapsed": false
   },
   "outputs": [],
   "source": [
    "\n",
    "lusitania['Age'] = lusitania['Age'].str.replace('\\?','')"
   ]
  },
  {
   "cell_type": "code",
   "execution_count": 199,
   "metadata": {
    "collapsed": false
   },
   "outputs": [],
   "source": [
    "lusitania['Age'] = lusitania['Age'].str.replace('\\.+\\(.+', '')"
   ]
  },
  {
   "cell_type": "code",
   "execution_count": 200,
   "metadata": {
    "collapsed": false
   },
   "outputs": [],
   "source": [
    "lusitania['Age'] = lusitania['Age'].str.replace('Infant','1')\n"
   ]
  },
  {
   "cell_type": "code",
   "execution_count": 201,
   "metadata": {
    "collapsed": false,
    "scrolled": true
   },
   "outputs": [
    {
     "name": "stderr",
     "output_type": "stream",
     "text": [
      "/Users/karibenson/anaconda/lib/python2.7/site-packages/ipykernel/__main__.py:4: FutureWarning: convert_objects is deprecated.  Use the data-type specific converters pd.to_datetime, pd.to_timedelta and pd.to_numeric.\n"
     ]
    }
   ],
   "source": [
    "#another method:  lusitania['Age'] = lusitania['Age'].astype(float)\n",
    "import pandas as pd\n",
    "import numpy as np\n",
    "lusitania['Age']=lusitania['Age'].convert_objects(convert_numeric=True)"
   ]
  },
  {
   "cell_type": "code",
   "execution_count": 202,
   "metadata": {
    "collapsed": true
   },
   "outputs": [
    {
     "data": {
      "text/plain": [
       "0       38.0\n",
       "1       37.0\n",
       "2       30.0\n",
       "3       25.0\n",
       "4       27.0\n",
       "5       48.0\n",
       "8       24.0\n",
       "9       19.0\n",
       "10      57.0\n",
       "11      50.0\n",
       "23      25.0\n",
       "25      56.0\n",
       "27      41.0\n",
       "32      19.0\n",
       "34      33.0\n",
       "37      50.0\n",
       "38      29.0\n",
       "41      38.0\n",
       "46      18.0\n",
       "47      20.0\n",
       "48      21.0\n",
       "51      26.0\n",
       "54      17.0\n",
       "55      33.0\n",
       "57      27.0\n",
       "58      25.0\n",
       "63      24.0\n",
       "70      58.0\n",
       "76      18.0\n",
       "77      26.0\n",
       "        ... \n",
       "1847    62.0\n",
       "1850    43.0\n",
       "1859    43.0\n",
       "1860    42.0\n",
       "1861    40.0\n",
       "1864    32.0\n",
       "1865    37.0\n",
       "1876    45.0\n",
       "1879    33.0\n",
       "1881    33.0\n",
       "1889    53.0\n",
       "1892    37.0\n",
       "1895    19.0\n",
       "1896    35.0\n",
       "1897    16.0\n",
       "1900    21.0\n",
       "1909    55.0\n",
       "1914    32.0\n",
       "1916    34.0\n",
       "1917    16.0\n",
       "1926    23.0\n",
       "1927    26.0\n",
       "1931    44.0\n",
       "1937    27.0\n",
       "1942    51.0\n",
       "1944    23.0\n",
       "1954    31.0\n",
       "1955    35.0\n",
       "1959    16.0\n",
       "1960    37.0\n",
       "Name: Age, dtype: float64"
      ]
     },
     "execution_count": 202,
     "metadata": {},
     "output_type": "execute_result"
    }
   ],
   "source": [
    "lusitania['Age'].dropna()\n"
   ]
  },
  {
   "cell_type": "markdown",
   "metadata": {},
   "source": [
    "I would also change the wording of passenger fate's to match in the two datasets and assign them to numerical values."
   ]
  },
  {
   "cell_type": "code",
   "execution_count": 203,
   "metadata": {
    "collapsed": true
   },
   "outputs": [
    {
     "data": {
      "text/plain": [
       "0       0\n",
       "1       0\n",
       "2       1\n",
       "3       1\n",
       "4       1\n",
       "5       0\n",
       "6       0\n",
       "7       1\n",
       "8       1\n",
       "9       1\n",
       "10      0\n",
       "11      0\n",
       "12      1\n",
       "13      1\n",
       "14      0\n",
       "15      1\n",
       "16      1\n",
       "17      1\n",
       "18      0\n",
       "19      1\n",
       "20      0\n",
       "21      1\n",
       "22      0\n",
       "23      0\n",
       "24      1\n",
       "25      1\n",
       "26      0\n",
       "27      1\n",
       "28      1\n",
       "29      0\n",
       "       ..\n",
       "1931    0\n",
       "1932    0\n",
       "1933    1\n",
       "1934    0\n",
       "1935    1\n",
       "1936    0\n",
       "1937    1\n",
       "1938    0\n",
       "1939    0\n",
       "1940    1\n",
       "1941    1\n",
       "1942    0\n",
       "1943    1\n",
       "1944    1\n",
       "1945    0\n",
       "1946    0\n",
       "1947    0\n",
       "1948    0\n",
       "1949    0\n",
       "1950    1\n",
       "1951    1\n",
       "1952    0\n",
       "1953    0\n",
       "1954    1\n",
       "1955    0\n",
       "1956    1\n",
       "1957    0\n",
       "1958    0\n",
       "1959    1\n",
       "1960    0\n",
       "Name: Fate, dtype: object"
      ]
     },
     "execution_count": 203,
     "metadata": {},
     "output_type": "execute_result"
    }
   ],
   "source": [
    "lusitania['Fate'] = lusitania['Fate'].str.replace(\"Lost\", \"0\")\n",
    "lusitania['Fate'] = lusitania['Fate'].str.replace(\"Saved\", \"1\")\n",
    "lusitania['Fate']"
   ]
  },
  {
   "cell_type": "code",
   "execution_count": 204,
   "metadata": {
    "collapsed": true
   },
   "outputs": [
    {
     "data": {
      "text/html": [
       "<div>\n",
       "<table border=\"1\" class=\"dataframe\">\n",
       "  <thead>\n",
       "    <tr style=\"text-align: right;\">\n",
       "      <th></th>\n",
       "      <th>pclass</th>\n",
       "      <th>survived</th>\n",
       "      <th>name</th>\n",
       "      <th>sex</th>\n",
       "      <th>age</th>\n",
       "      <th>sibsp</th>\n",
       "      <th>parch</th>\n",
       "      <th>ticket</th>\n",
       "      <th>fare</th>\n",
       "      <th>cabin</th>\n",
       "      <th>embarked</th>\n",
       "      <th>boat</th>\n",
       "      <th>body</th>\n",
       "      <th>home.dest</th>\n",
       "      <th>deceased</th>\n",
       "    </tr>\n",
       "  </thead>\n",
       "  <tbody>\n",
       "    <tr>\n",
       "      <th>0</th>\n",
       "      <td>1</td>\n",
       "      <td>1</td>\n",
       "      <td>Allen, Miss. Elisabeth Walton</td>\n",
       "      <td>female</td>\n",
       "      <td>29.00</td>\n",
       "      <td>0</td>\n",
       "      <td>0</td>\n",
       "      <td>24160</td>\n",
       "      <td>211.3375</td>\n",
       "      <td>B5</td>\n",
       "      <td>S</td>\n",
       "      <td>2</td>\n",
       "      <td>NaN</td>\n",
       "      <td>St Louis, MO</td>\n",
       "      <td>0</td>\n",
       "    </tr>\n",
       "    <tr>\n",
       "      <th>1</th>\n",
       "      <td>1</td>\n",
       "      <td>1</td>\n",
       "      <td>Allison, Master. Hudson Trevor</td>\n",
       "      <td>male</td>\n",
       "      <td>0.92</td>\n",
       "      <td>1</td>\n",
       "      <td>2</td>\n",
       "      <td>113781</td>\n",
       "      <td>151.5500</td>\n",
       "      <td>C22 C26</td>\n",
       "      <td>S</td>\n",
       "      <td>11</td>\n",
       "      <td>NaN</td>\n",
       "      <td>Montreal, PQ / Chesterville, ON</td>\n",
       "      <td>0</td>\n",
       "    </tr>\n",
       "    <tr>\n",
       "      <th>2</th>\n",
       "      <td>1</td>\n",
       "      <td>0</td>\n",
       "      <td>Allison, Miss. Helen Loraine</td>\n",
       "      <td>female</td>\n",
       "      <td>2.00</td>\n",
       "      <td>1</td>\n",
       "      <td>2</td>\n",
       "      <td>113781</td>\n",
       "      <td>151.5500</td>\n",
       "      <td>C22 C26</td>\n",
       "      <td>S</td>\n",
       "      <td>NaN</td>\n",
       "      <td>NaN</td>\n",
       "      <td>Montreal, PQ / Chesterville, ON</td>\n",
       "      <td>1</td>\n",
       "    </tr>\n",
       "    <tr>\n",
       "      <th>3</th>\n",
       "      <td>1</td>\n",
       "      <td>0</td>\n",
       "      <td>Allison, Mr. Hudson Joshua Creighton</td>\n",
       "      <td>male</td>\n",
       "      <td>30.00</td>\n",
       "      <td>1</td>\n",
       "      <td>2</td>\n",
       "      <td>113781</td>\n",
       "      <td>151.5500</td>\n",
       "      <td>C22 C26</td>\n",
       "      <td>S</td>\n",
       "      <td>NaN</td>\n",
       "      <td>135.0</td>\n",
       "      <td>Montreal, PQ / Chesterville, ON</td>\n",
       "      <td>1</td>\n",
       "    </tr>\n",
       "    <tr>\n",
       "      <th>4</th>\n",
       "      <td>1</td>\n",
       "      <td>0</td>\n",
       "      <td>Allison, Mrs. Hudson J C (Bessie Waldo Daniels)</td>\n",
       "      <td>female</td>\n",
       "      <td>25.00</td>\n",
       "      <td>1</td>\n",
       "      <td>2</td>\n",
       "      <td>113781</td>\n",
       "      <td>151.5500</td>\n",
       "      <td>C22 C26</td>\n",
       "      <td>S</td>\n",
       "      <td>NaN</td>\n",
       "      <td>NaN</td>\n",
       "      <td>Montreal, PQ / Chesterville, ON</td>\n",
       "      <td>1</td>\n",
       "    </tr>\n",
       "  </tbody>\n",
       "</table>\n",
       "</div>"
      ],
      "text/plain": [
       "   pclass  survived                                             name     sex  \\\n",
       "0       1         1                    Allen, Miss. Elisabeth Walton  female   \n",
       "1       1         1                   Allison, Master. Hudson Trevor    male   \n",
       "2       1         0                     Allison, Miss. Helen Loraine  female   \n",
       "3       1         0             Allison, Mr. Hudson Joshua Creighton    male   \n",
       "4       1         0  Allison, Mrs. Hudson J C (Bessie Waldo Daniels)  female   \n",
       "\n",
       "     age  sibsp  parch  ticket      fare    cabin embarked boat   body  \\\n",
       "0  29.00      0      0   24160  211.3375       B5        S    2    NaN   \n",
       "1   0.92      1      2  113781  151.5500  C22 C26        S   11    NaN   \n",
       "2   2.00      1      2  113781  151.5500  C22 C26        S  NaN    NaN   \n",
       "3  30.00      1      2  113781  151.5500  C22 C26        S  NaN  135.0   \n",
       "4  25.00      1      2  113781  151.5500  C22 C26        S  NaN    NaN   \n",
       "\n",
       "                         home.dest  deceased  \n",
       "0                     St Louis, MO         0  \n",
       "1  Montreal, PQ / Chesterville, ON         0  \n",
       "2  Montreal, PQ / Chesterville, ON         1  \n",
       "3  Montreal, PQ / Chesterville, ON         1  \n",
       "4  Montreal, PQ / Chesterville, ON         1  "
      ]
     },
     "execution_count": 204,
     "metadata": {},
     "output_type": "execute_result"
    }
   ],
   "source": [
    "titanic['deceased'] = titanic['survived'].apply(lambda x: 1 if x==0 else 0)\n",
    "titanic.head()"
   ]
  },
  {
   "cell_type": "code",
   "execution_count": 239,
   "metadata": {
    "collapsed": true
   },
   "outputs": [
    {
     "data": {
      "text/html": [
       "<div>\n",
       "<table border=\"1\" class=\"dataframe\">\n",
       "  <thead>\n",
       "    <tr style=\"text-align: right;\">\n",
       "      <th></th>\n",
       "      <th>Family name</th>\n",
       "      <th>Title</th>\n",
       "      <th>Personal name</th>\n",
       "      <th>Fate</th>\n",
       "      <th>Age</th>\n",
       "      <th>Department/Class</th>\n",
       "      <th>Passenger/Crew</th>\n",
       "      <th>Citizenship</th>\n",
       "      <th>Position</th>\n",
       "      <th>Status</th>\n",
       "      <th>...</th>\n",
       "      <th>Rescue Vessel</th>\n",
       "      <th>Body No.</th>\n",
       "      <th>Ticket No.</th>\n",
       "      <th>Cabin No.</th>\n",
       "      <th>Traveling Companions and other notes</th>\n",
       "      <th>Value</th>\n",
       "      <th>Adult/Minor</th>\n",
       "      <th>Sex</th>\n",
       "      <th>deceased</th>\n",
       "      <th>survived</th>\n",
       "    </tr>\n",
       "  </thead>\n",
       "  <tbody>\n",
       "    <tr>\n",
       "      <th>0</th>\n",
       "      <td>CAMERON</td>\n",
       "      <td>Mr.</td>\n",
       "      <td>Charles W.</td>\n",
       "      <td>Lost</td>\n",
       "      <td>38</td>\n",
       "      <td>Band</td>\n",
       "      <td>Crew</td>\n",
       "      <td>British</td>\n",
       "      <td>NaN</td>\n",
       "      <td>NaN</td>\n",
       "      <td>...</td>\n",
       "      <td>NaN</td>\n",
       "      <td>NaN</td>\n",
       "      <td>NaN</td>\n",
       "      <td>NaN</td>\n",
       "      <td>NaN</td>\n",
       "      <td>1</td>\n",
       "      <td>Adult</td>\n",
       "      <td>Male</td>\n",
       "      <td>1</td>\n",
       "      <td>0</td>\n",
       "    </tr>\n",
       "    <tr>\n",
       "      <th>1</th>\n",
       "      <td>CARR-JONES</td>\n",
       "      <td>Mr.</td>\n",
       "      <td>E.</td>\n",
       "      <td>Lost</td>\n",
       "      <td>37</td>\n",
       "      <td>Band</td>\n",
       "      <td>Crew</td>\n",
       "      <td>British</td>\n",
       "      <td>NaN</td>\n",
       "      <td>NaN</td>\n",
       "      <td>...</td>\n",
       "      <td>NaN</td>\n",
       "      <td>NaN</td>\n",
       "      <td>NaN</td>\n",
       "      <td>NaN</td>\n",
       "      <td>NaN</td>\n",
       "      <td>1</td>\n",
       "      <td>Adult</td>\n",
       "      <td>Male</td>\n",
       "      <td>1</td>\n",
       "      <td>0</td>\n",
       "    </tr>\n",
       "    <tr>\n",
       "      <th>2</th>\n",
       "      <td>DRAKEFORD</td>\n",
       "      <td>Mr.</td>\n",
       "      <td>Edward</td>\n",
       "      <td>Saved</td>\n",
       "      <td>30</td>\n",
       "      <td>Band</td>\n",
       "      <td>Crew</td>\n",
       "      <td>British</td>\n",
       "      <td>Violin</td>\n",
       "      <td>NaN</td>\n",
       "      <td>...</td>\n",
       "      <td>NaN</td>\n",
       "      <td>NaN</td>\n",
       "      <td>NaN</td>\n",
       "      <td>NaN</td>\n",
       "      <td>NaN</td>\n",
       "      <td>1</td>\n",
       "      <td>Adult</td>\n",
       "      <td>Male</td>\n",
       "      <td>0</td>\n",
       "      <td>1</td>\n",
       "    </tr>\n",
       "    <tr>\n",
       "      <th>3</th>\n",
       "      <td>HAWKINS</td>\n",
       "      <td>Mr.</td>\n",
       "      <td>Handel</td>\n",
       "      <td>Saved</td>\n",
       "      <td>25</td>\n",
       "      <td>Band</td>\n",
       "      <td>Crew</td>\n",
       "      <td>British</td>\n",
       "      <td>Cello</td>\n",
       "      <td>NaN</td>\n",
       "      <td>...</td>\n",
       "      <td>NaN</td>\n",
       "      <td>NaN</td>\n",
       "      <td>NaN</td>\n",
       "      <td>NaN</td>\n",
       "      <td>NaN</td>\n",
       "      <td>1</td>\n",
       "      <td>Adult</td>\n",
       "      <td>Male</td>\n",
       "      <td>0</td>\n",
       "      <td>1</td>\n",
       "    </tr>\n",
       "    <tr>\n",
       "      <th>4</th>\n",
       "      <td>HEMINGWAY</td>\n",
       "      <td>Mr.</td>\n",
       "      <td>John William</td>\n",
       "      <td>Saved</td>\n",
       "      <td>27</td>\n",
       "      <td>Band</td>\n",
       "      <td>Crew</td>\n",
       "      <td>British</td>\n",
       "      <td>Double Bass</td>\n",
       "      <td>NaN</td>\n",
       "      <td>...</td>\n",
       "      <td>NaN</td>\n",
       "      <td>NaN</td>\n",
       "      <td>NaN</td>\n",
       "      <td>NaN</td>\n",
       "      <td>NaN</td>\n",
       "      <td>1</td>\n",
       "      <td>Adult</td>\n",
       "      <td>Male</td>\n",
       "      <td>0</td>\n",
       "      <td>1</td>\n",
       "    </tr>\n",
       "  </tbody>\n",
       "</table>\n",
       "<p>5 rows × 25 columns</p>\n",
       "</div>"
      ],
      "text/plain": [
       "  Family name Title Personal name   Fate Age Department/Class Passenger/Crew  \\\n",
       "0     CAMERON   Mr.    Charles W.   Lost  38             Band           Crew   \n",
       "1  CARR-JONES   Mr.            E.   Lost  37             Band           Crew   \n",
       "2   DRAKEFORD   Mr.        Edward  Saved  30             Band           Crew   \n",
       "3     HAWKINS   Mr.        Handel  Saved  25             Band           Crew   \n",
       "4   HEMINGWAY   Mr.  John William  Saved  27             Band           Crew   \n",
       "\n",
       "  Citizenship     Position Status   ...    Rescue Vessel Body No. Ticket No.  \\\n",
       "0     British          NaN    NaN   ...              NaN      NaN        NaN   \n",
       "1     British          NaN    NaN   ...              NaN      NaN        NaN   \n",
       "2     British       Violin    NaN   ...              NaN      NaN        NaN   \n",
       "3     British        Cello    NaN   ...              NaN      NaN        NaN   \n",
       "4     British  Double Bass    NaN   ...              NaN      NaN        NaN   \n",
       "\n",
       "  Cabin No. Traveling Companions and other notes Value Adult/Minor   Sex  \\\n",
       "0       NaN                                  NaN     1       Adult  Male   \n",
       "1       NaN                                  NaN     1       Adult  Male   \n",
       "2       NaN                                  NaN     1       Adult  Male   \n",
       "3       NaN                                  NaN     1       Adult  Male   \n",
       "4       NaN                                  NaN     1       Adult  Male   \n",
       "\n",
       "  deceased survived  \n",
       "0        1        0  \n",
       "1        1        0  \n",
       "2        0        1  \n",
       "3        0        1  \n",
       "4        0        1  \n",
       "\n",
       "[5 rows x 25 columns]"
      ]
     },
     "execution_count": 239,
     "metadata": {},
     "output_type": "execute_result"
    }
   ],
   "source": [
    "lusitania['deceased'] = lusitania['Fate'].apply(lambda x: 1 if x==\"Lost\" else 0)\n",
    "lusitania['survived'] = lusitania['Fate'].apply(lambda x: 1 if x==\"Saved\" else 0)\n",
    "lusitania.head()"
   ]
  },
  {
   "cell_type": "markdown",
   "metadata": {},
   "source": [
    "I would also want to change gender to a numerical value.\n"
   ]
  },
  {
   "cell_type": "code",
   "execution_count": 205,
   "metadata": {
    "collapsed": true
   },
   "outputs": [
    {
     "data": {
      "text/plain": [
       "0       0\n",
       "1       1\n",
       "2       0\n",
       "3       1\n",
       "4       0\n",
       "5       1\n",
       "6       0\n",
       "7       1\n",
       "8       0\n",
       "9       1\n",
       "10      1\n",
       "11      0\n",
       "12      0\n",
       "13      0\n",
       "14      1\n",
       "15      1\n",
       "16      1\n",
       "17      0\n",
       "18      0\n",
       "19      1\n",
       "20      1\n",
       "21      0\n",
       "22      1\n",
       "23      0\n",
       "24      0\n",
       "25      1\n",
       "26      1\n",
       "27      0\n",
       "28      0\n",
       "29      1\n",
       "       ..\n",
       "1279    0\n",
       "1280    1\n",
       "1281    1\n",
       "1282    1\n",
       "1283    1\n",
       "1284    1\n",
       "1285    1\n",
       "1286    0\n",
       "1287    1\n",
       "1288    1\n",
       "1289    1\n",
       "1290    0\n",
       "1291    1\n",
       "1292    1\n",
       "1293    1\n",
       "1294    1\n",
       "1295    1\n",
       "1296    1\n",
       "1297    1\n",
       "1298    1\n",
       "1299    1\n",
       "1300    0\n",
       "1301    1\n",
       "1302    1\n",
       "1303    1\n",
       "1304    0\n",
       "1305    0\n",
       "1306    1\n",
       "1307    1\n",
       "1308    1\n",
       "Name: sex, dtype: object"
      ]
     },
     "execution_count": 205,
     "metadata": {},
     "output_type": "execute_result"
    }
   ],
   "source": [
    "titanic['sex'] = titanic['sex'].str.replace(\"female\", \"0\")\n",
    "titanic['sex'] = titanic['sex'].str.replace(\"male\", \"1\")\n",
    "titanic['sex']"
   ]
  },
  {
   "cell_type": "code",
   "execution_count": 206,
   "metadata": {
    "collapsed": true
   },
   "outputs": [
    {
     "data": {
      "text/plain": [
       "0       1\n",
       "1       1\n",
       "2       1\n",
       "3       1\n",
       "4       1\n",
       "5       1\n",
       "6       1\n",
       "7       1\n",
       "8       1\n",
       "9       1\n",
       "10      1\n",
       "11      1\n",
       "12      1\n",
       "13      1\n",
       "14      1\n",
       "15      1\n",
       "16      1\n",
       "17      1\n",
       "18      1\n",
       "19      1\n",
       "20      1\n",
       "21      1\n",
       "22      1\n",
       "23      1\n",
       "24      1\n",
       "25      1\n",
       "26      1\n",
       "27      1\n",
       "28      1\n",
       "29      1\n",
       "       ..\n",
       "1931    1\n",
       "1932    1\n",
       "1933    1\n",
       "1934    1\n",
       "1935    1\n",
       "1936    1\n",
       "1937    1\n",
       "1938    1\n",
       "1939    1\n",
       "1940    1\n",
       "1941    1\n",
       "1942    0\n",
       "1943    1\n",
       "1944    1\n",
       "1945    1\n",
       "1946    1\n",
       "1947    1\n",
       "1948    1\n",
       "1949    1\n",
       "1950    1\n",
       "1951    1\n",
       "1952    1\n",
       "1953    1\n",
       "1954    1\n",
       "1955    1\n",
       "1956    1\n",
       "1957    1\n",
       "1958    1\n",
       "1959    1\n",
       "1960    1\n",
       "Name: Sex, dtype: object"
      ]
     },
     "execution_count": 206,
     "metadata": {},
     "output_type": "execute_result"
    }
   ],
   "source": [
    "lusitania['Sex'] = lusitania['Sex'].str.replace(\"Female\", \"0\")\n",
    "lusitania['Sex'] = lusitania['Sex'].str.replace(\"Male\", \"1\")                                                \n",
    "lusitania['Sex']"
   ]
  },
  {
   "cell_type": "markdown",
   "metadata": {},
   "source": [
    "# I would also remove the data on people on were not passengers from the Lusitania dataset.  Because Titanic only has information on it's passengers, this makes it possible to compare the two.  I would also convert the labels on the classes of Lusitania's passengers to match the 1, 2, and 3 labels in the Titanic dataset."
   ]
  },
  {
   "cell_type": "code",
   "execution_count": 179,
   "metadata": {
    "collapsed": false
   },
   "outputs": [
    {
     "data": {
      "text/plain": [
       "{'Crew', 'Passenger', 'Stowaway'}"
      ]
     },
     "execution_count": 179,
     "metadata": {},
     "output_type": "execute_result"
    }
   ],
   "source": [
    "set(lusitania['Passenger/Crew'])"
   ]
  },
  {
   "cell_type": "code",
   "execution_count": 245,
   "metadata": {
    "collapsed": false,
    "scrolled": true
   },
   "outputs": [],
   "source": [
    "lusitania['Department/Class'] = lusitania['Department/Class'].str.replace(\"Saloon\", \"1\")\n",
    "lusitania['Department/Class'] = lusitania['Department/Class'].str.replace(\"Second\", \"2\")\n",
    "lusitania['Department/Class'] = lusitania['Department/Class'].str.replace(\"Third\", \"3\")\n"
   ]
  },
  {
   "cell_type": "code",
   "execution_count": 242,
   "metadata": {
    "collapsed": true
   },
   "outputs": [
    {
     "data": {
      "text/plain": [
       "array(['Saloon', 'Second', 'Third'], dtype=object)"
      ]
     },
     "execution_count": 242,
     "metadata": {},
     "output_type": "execute_result"
    }
   ],
   "source": [
    "\n",
    "#remove all classes other than 1,2,3\n",
    "\n",
    "lusitania = lusitania.loc[lusitania['Department/Class'] != 'Third (Distressed British Seaman)']\n",
    "lusitania = lusitania.loc[lusitania['Department/Class'] != 'Band']\n",
    "lusitania = lusitania.loc[lusitania['Department/Class'] != 'Deck']\n",
    "lusitania = lusitania.loc[lusitania['Department/Class'] != 'Engineering']\n",
    "lusitania = lusitania.loc[lusitania['Department/Class'] != 'Victualling']\n",
    "lusitania = lusitania.loc[lusitania['Department/Class'] != 'Stowaway']\n",
    "lusitania['Department/Class'].unique()\n",
    "#lusitania = lusitania.loc[lusitania['Passenger/Crew'] != 'Stowaway']"
   ]
  },
  {
   "cell_type": "code",
   "execution_count": 243,
   "metadata": {
    "collapsed": false
   },
   "outputs": [
    {
     "name": "stderr",
     "output_type": "stream",
     "text": [
      "/Users/karibenson/anaconda/lib/python2.7/site-packages/ipykernel/__main__.py:1: FutureWarning: convert_objects is deprecated.  Use the data-type specific converters pd.to_datetime, pd.to_timedelta and pd.to_numeric.\n",
      "  if __name__ == '__main__':\n"
     ]
    }
   ],
   "source": [
    "lusitania['Department/Class'] = lusitania['Department/Class'].convert_objects(convert_numeric=True)"
   ]
  },
  {
   "cell_type": "code",
   "execution_count": 167,
   "metadata": {
    "collapsed": false
   },
   "outputs": [
    {
     "data": {
      "text/plain": [
       "{1, 2, 3}"
      ]
     },
     "execution_count": 167,
     "metadata": {},
     "output_type": "execute_result"
    }
   ],
   "source": [
    "set(lusitania['Department/Class'])"
   ]
  },
  {
   "cell_type": "code",
   "execution_count": 166,
   "metadata": {
    "collapsed": true
   },
   "outputs": [
    {
     "data": {
      "text/plain": [
       "0       1\n",
       "1       1\n",
       "2       1\n",
       "3       1\n",
       "4       1\n",
       "5       1\n",
       "6       1\n",
       "7       1\n",
       "8       1\n",
       "9       1\n",
       "10      1\n",
       "11      1\n",
       "12      1\n",
       "13      1\n",
       "14      1\n",
       "15      1\n",
       "16      1\n",
       "17      1\n",
       "18      1\n",
       "19      1\n",
       "20      1\n",
       "21      1\n",
       "22      1\n",
       "23      1\n",
       "24      1\n",
       "25      1\n",
       "26      1\n",
       "27      1\n",
       "28      1\n",
       "29      1\n",
       "       ..\n",
       "1279    3\n",
       "1280    3\n",
       "1281    3\n",
       "1282    3\n",
       "1283    3\n",
       "1284    3\n",
       "1285    3\n",
       "1286    3\n",
       "1287    3\n",
       "1288    3\n",
       "1289    3\n",
       "1290    3\n",
       "1291    3\n",
       "1292    3\n",
       "1293    3\n",
       "1294    3\n",
       "1295    3\n",
       "1296    3\n",
       "1297    3\n",
       "1298    3\n",
       "1299    3\n",
       "1300    3\n",
       "1301    3\n",
       "1302    3\n",
       "1303    3\n",
       "1304    3\n",
       "1305    3\n",
       "1306    3\n",
       "1307    3\n",
       "1308    3\n",
       "Name: pclass, dtype: int64"
      ]
     },
     "execution_count": 166,
     "metadata": {},
     "output_type": "execute_result"
    }
   ],
   "source": [
    "titanic[\"pclass\"]"
   ]
  },
  {
   "cell_type": "code",
   "execution_count": 30,
   "metadata": {
    "collapsed": false
   },
   "outputs": [
    {
     "data": {
      "text/plain": [
       "{1, 2, 3}"
      ]
     },
     "execution_count": 30,
     "metadata": {},
     "output_type": "execute_result"
    }
   ],
   "source": [
    "set(titanic['pclass'])"
   ]
  },
  {
   "cell_type": "markdown",
   "metadata": {},
   "source": [
    "## Part 4: Group Statistics"
   ]
  },
  {
   "cell_type": "markdown",
   "metadata": {
    "collapsed": true
   },
   "source": [
    "#### Are there any groups that were especially adversely affected in the Titanic wreck? (justify your response numerically)"
   ]
  },
  {
   "cell_type": "markdown",
   "metadata": {},
   "source": [
    "The was the largest difference in survival between the genders, with men having only a 19% chance of survival \n",
    "compared to the women's 73%.  Passengers of lower classes also had lower odds of survival than those of the higher,\n",
    "with only 26% of 3rd class passengers surviving, compared to 43% and 62% in second and first classes respectively."
   ]
  },
  {
   "cell_type": "code",
   "execution_count": 218,
   "metadata": {
    "collapsed": false,
    "scrolled": true
   },
   "outputs": [
    {
     "name": "stdout",
     "output_type": "stream",
     "text": [
      "466 females\n",
      "843 males\n",
      "1309 total Titanic passengers\n"
     ]
    }
   ],
   "source": [
    "# total titanic passengers by gender\n",
    "titanic_female_count = 0\n",
    "titanic_male_count = 0\n",
    "for sex in titanic['sex']:\n",
    "    if sex =='0':\n",
    "        titanic_female_count += 1\n",
    "    else:\n",
    "        titanic_male_count += 1\n",
    "total_titanic_passengers = titanic_male_count + titanic_female_count      \n",
    "print titanic_female_count, \"females\"\n",
    "print titanic_male_count, \"males\"\n",
    "print total_titanic_passengers, \"total Titanic passengers\"\n",
    "        "
   ]
  },
  {
   "cell_type": "code",
   "execution_count": 31,
   "metadata": {
    "collapsed": false
   },
   "outputs": [
    {
     "data": {
      "text/html": [
       "<div>\n",
       "<table border=\"1\" class=\"dataframe\">\n",
       "  <thead>\n",
       "    <tr>\n",
       "      <th></th>\n",
       "      <th></th>\n",
       "      <th colspan=\"6\" halign=\"left\">sum</th>\n",
       "      <th colspan=\"6\" halign=\"left\">mean</th>\n",
       "      <th colspan=\"6\" halign=\"left\">std</th>\n",
       "    </tr>\n",
       "    <tr>\n",
       "      <th></th>\n",
       "      <th></th>\n",
       "      <th>age</th>\n",
       "      <th>deceased</th>\n",
       "      <th>fare</th>\n",
       "      <th>parch</th>\n",
       "      <th>sibsp</th>\n",
       "      <th>survived</th>\n",
       "      <th>age</th>\n",
       "      <th>deceased</th>\n",
       "      <th>fare</th>\n",
       "      <th>parch</th>\n",
       "      <th>sibsp</th>\n",
       "      <th>survived</th>\n",
       "      <th>age</th>\n",
       "      <th>deceased</th>\n",
       "      <th>fare</th>\n",
       "      <th>parch</th>\n",
       "      <th>sibsp</th>\n",
       "      <th>survived</th>\n",
       "    </tr>\n",
       "    <tr>\n",
       "      <th>pclass</th>\n",
       "      <th>sex</th>\n",
       "      <th></th>\n",
       "      <th></th>\n",
       "      <th></th>\n",
       "      <th></th>\n",
       "      <th></th>\n",
       "      <th></th>\n",
       "      <th></th>\n",
       "      <th></th>\n",
       "      <th></th>\n",
       "      <th></th>\n",
       "      <th></th>\n",
       "      <th></th>\n",
       "      <th></th>\n",
       "      <th></th>\n",
       "      <th></th>\n",
       "      <th></th>\n",
       "      <th></th>\n",
       "      <th></th>\n",
       "    </tr>\n",
       "  </thead>\n",
       "  <tbody>\n",
       "    <tr>\n",
       "      <th rowspan=\"2\" valign=\"top\">1</th>\n",
       "      <th>0</th>\n",
       "      <td>5256.00</td>\n",
       "      <td>5</td>\n",
       "      <td>15755.3834</td>\n",
       "      <td>68</td>\n",
       "      <td>80</td>\n",
       "      <td>139</td>\n",
       "      <td>36.500000</td>\n",
       "      <td>0.034722</td>\n",
       "      <td>109.412385</td>\n",
       "      <td>0.472222</td>\n",
       "      <td>0.555556</td>\n",
       "      <td>0.965278</td>\n",
       "      <td>13.840247</td>\n",
       "      <td>0.183714</td>\n",
       "      <td>82.885854</td>\n",
       "      <td>0.774998</td>\n",
       "      <td>0.666667</td>\n",
       "      <td>0.183714</td>\n",
       "    </tr>\n",
       "    <tr>\n",
       "      <th>1</th>\n",
       "      <td>7035.42</td>\n",
       "      <td>118</td>\n",
       "      <td>12510.0209</td>\n",
       "      <td>50</td>\n",
       "      <td>61</td>\n",
       "      <td>61</td>\n",
       "      <td>39.304022</td>\n",
       "      <td>0.659218</td>\n",
       "      <td>69.888385</td>\n",
       "      <td>0.279330</td>\n",
       "      <td>0.340782</td>\n",
       "      <td>0.340782</td>\n",
       "      <td>13.972946</td>\n",
       "      <td>0.475302</td>\n",
       "      <td>74.079427</td>\n",
       "      <td>0.653571</td>\n",
       "      <td>0.541597</td>\n",
       "      <td>0.475302</td>\n",
       "    </tr>\n",
       "    <tr>\n",
       "      <th rowspan=\"2\" valign=\"top\">2</th>\n",
       "      <th>0</th>\n",
       "      <td>2922.42</td>\n",
       "      <td>12</td>\n",
       "      <td>2462.8917</td>\n",
       "      <td>69</td>\n",
       "      <td>53</td>\n",
       "      <td>94</td>\n",
       "      <td>27.570000</td>\n",
       "      <td>0.113208</td>\n",
       "      <td>23.234827</td>\n",
       "      <td>0.650943</td>\n",
       "      <td>0.500000</td>\n",
       "      <td>0.886792</td>\n",
       "      <td>12.732776</td>\n",
       "      <td>0.318352</td>\n",
       "      <td>11.239817</td>\n",
       "      <td>0.862361</td>\n",
       "      <td>0.636209</td>\n",
       "      <td>0.318352</td>\n",
       "    </tr>\n",
       "    <tr>\n",
       "      <th>1</th>\n",
       "      <td>5258.83</td>\n",
       "      <td>146</td>\n",
       "      <td>3403.7457</td>\n",
       "      <td>33</td>\n",
       "      <td>56</td>\n",
       "      <td>25</td>\n",
       "      <td>30.753392</td>\n",
       "      <td>0.853801</td>\n",
       "      <td>19.904946</td>\n",
       "      <td>0.192982</td>\n",
       "      <td>0.327485</td>\n",
       "      <td>0.146199</td>\n",
       "      <td>13.434091</td>\n",
       "      <td>0.354343</td>\n",
       "      <td>14.775149</td>\n",
       "      <td>0.488886</td>\n",
       "      <td>0.551260</td>\n",
       "      <td>0.354343</td>\n",
       "    </tr>\n",
       "    <tr>\n",
       "      <th rowspan=\"2\" valign=\"top\">3</th>\n",
       "      <th>0</th>\n",
       "      <td>5292.17</td>\n",
       "      <td>110</td>\n",
       "      <td>3310.0379</td>\n",
       "      <td>158</td>\n",
       "      <td>171</td>\n",
       "      <td>106</td>\n",
       "      <td>24.500787</td>\n",
       "      <td>0.509259</td>\n",
       "      <td>15.324250</td>\n",
       "      <td>0.731481</td>\n",
       "      <td>0.791667</td>\n",
       "      <td>0.490741</td>\n",
       "      <td>10.835895</td>\n",
       "      <td>0.501076</td>\n",
       "      <td>11.786512</td>\n",
       "      <td>1.262014</td>\n",
       "      <td>1.446126</td>\n",
       "      <td>0.501076</td>\n",
       "    </tr>\n",
       "    <tr>\n",
       "      <th>1</th>\n",
       "      <td>13380.83</td>\n",
       "      <td>418</td>\n",
       "      <td>6108.4073</td>\n",
       "      <td>126</td>\n",
       "      <td>232</td>\n",
       "      <td>75</td>\n",
       "      <td>27.141643</td>\n",
       "      <td>0.847870</td>\n",
       "      <td>12.415462</td>\n",
       "      <td>0.255578</td>\n",
       "      <td>0.470588</td>\n",
       "      <td>0.152130</td>\n",
       "      <td>9.995586</td>\n",
       "      <td>0.359511</td>\n",
       "      <td>11.261638</td>\n",
       "      <td>0.788377</td>\n",
       "      <td>1.218775</td>\n",
       "      <td>0.359511</td>\n",
       "    </tr>\n",
       "  </tbody>\n",
       "</table>\n",
       "</div>"
      ],
      "text/plain": [
       "                 sum                                                 mean  \\\n",
       "                 age deceased        fare parch sibsp survived        age   \n",
       "pclass sex                                                                  \n",
       "1      0     5256.00        5  15755.3834    68    80      139  36.500000   \n",
       "       1     7035.42      118  12510.0209    50    61       61  39.304022   \n",
       "2      0     2922.42       12   2462.8917    69    53       94  27.570000   \n",
       "       1     5258.83      146   3403.7457    33    56       25  30.753392   \n",
       "3      0     5292.17      110   3310.0379   158   171      106  24.500787   \n",
       "       1    13380.83      418   6108.4073   126   232       75  27.141643   \n",
       "\n",
       "                                                                      std  \\\n",
       "            deceased        fare     parch     sibsp  survived        age   \n",
       "pclass sex                                                                  \n",
       "1      0    0.034722  109.412385  0.472222  0.555556  0.965278  13.840247   \n",
       "       1    0.659218   69.888385  0.279330  0.340782  0.340782  13.972946   \n",
       "2      0    0.113208   23.234827  0.650943  0.500000  0.886792  12.732776   \n",
       "       1    0.853801   19.904946  0.192982  0.327485  0.146199  13.434091   \n",
       "3      0    0.509259   15.324250  0.731481  0.791667  0.490741  10.835895   \n",
       "       1    0.847870   12.415462  0.255578  0.470588  0.152130   9.995586   \n",
       "\n",
       "                                                               \n",
       "            deceased       fare     parch     sibsp  survived  \n",
       "pclass sex                                                     \n",
       "1      0    0.183714  82.885854  0.774998  0.666667  0.183714  \n",
       "       1    0.475302  74.079427  0.653571  0.541597  0.475302  \n",
       "2      0    0.318352  11.239817  0.862361  0.636209  0.318352  \n",
       "       1    0.354343  14.775149  0.488886  0.551260  0.354343  \n",
       "3      0    0.501076  11.786512  1.262014  1.446126  0.501076  \n",
       "       1    0.359511  11.261638  0.788377  1.218775  0.359511  "
      ]
     },
     "execution_count": 31,
     "metadata": {},
     "output_type": "execute_result"
    }
   ],
   "source": [
    "# index goes on y axis, values go on x\n",
    "Titanic_pivot = pd.pivot_table(titanic, index=[\"pclass\", \"sex\"], values=[\"age\", \"survived\", \"deceased\", \"sibsp\", \"parch\", \"fare\"],\n",
    "                               aggfunc=[np.sum, np.mean, np.std])\n",
    "Titanic_pivot\n",
    "                               "
   ]
  },
  {
   "cell_type": "code",
   "execution_count": 32,
   "metadata": {
    "collapsed": false
   },
   "outputs": [
    {
     "data": {
      "text/html": [
       "<div>\n",
       "<table border=\"1\" class=\"dataframe\">\n",
       "  <thead>\n",
       "    <tr>\n",
       "      <th></th>\n",
       "      <th colspan=\"2\" halign=\"left\">sum</th>\n",
       "      <th colspan=\"2\" halign=\"left\">mean</th>\n",
       "    </tr>\n",
       "    <tr>\n",
       "      <th></th>\n",
       "      <th>deceased</th>\n",
       "      <th>survived</th>\n",
       "      <th>deceased</th>\n",
       "      <th>survived</th>\n",
       "    </tr>\n",
       "    <tr>\n",
       "      <th>sex</th>\n",
       "      <th></th>\n",
       "      <th></th>\n",
       "      <th></th>\n",
       "      <th></th>\n",
       "    </tr>\n",
       "  </thead>\n",
       "  <tbody>\n",
       "    <tr>\n",
       "      <th>0</th>\n",
       "      <td>127</td>\n",
       "      <td>339</td>\n",
       "      <td>0.272532</td>\n",
       "      <td>0.727468</td>\n",
       "    </tr>\n",
       "    <tr>\n",
       "      <th>1</th>\n",
       "      <td>682</td>\n",
       "      <td>161</td>\n",
       "      <td>0.809015</td>\n",
       "      <td>0.190985</td>\n",
       "    </tr>\n",
       "  </tbody>\n",
       "</table>\n",
       "</div>"
      ],
      "text/plain": [
       "         sum               mean          \n",
       "    deceased survived  deceased  survived\n",
       "sex                                      \n",
       "0        127      339  0.272532  0.727468\n",
       "1        682      161  0.809015  0.190985"
      ]
     },
     "execution_count": 32,
     "metadata": {},
     "output_type": "execute_result"
    }
   ],
   "source": [
    "Titanic_sex_survival_pivot = pd.pivot_table(titanic, index=[\"sex\"], values=[\"survived\", \"deceased\"], aggfunc=[np.sum, np.mean])\n",
    "Titanic_sex_survival_pivot"
   ]
  },
  {
   "cell_type": "code",
   "execution_count": 255,
   "metadata": {
    "collapsed": false
   },
   "outputs": [
    {
     "data": {
      "text/plain": [
       "(363.61790843882488, 1)"
      ]
     },
     "execution_count": 255,
     "metadata": {},
     "output_type": "execute_result"
    }
   ],
   "source": [
    "import pandas as pd\n",
    "table2 = pd.crosstab(titanic['sex'], titanic['survived'])\n",
    "table2\n",
    "from scipy.stats import chi2_contingency\n",
    "chisq_value, pvalue_gender_income, df, expected = chi2_contingency(table2)\n",
    "chisq_value, df"
   ]
  },
  {
   "cell_type": "code",
   "execution_count": 256,
   "metadata": {
    "collapsed": false
   },
   "outputs": [
    {
     "data": {
      "text/html": [
       "<div>\n",
       "<table border=\"1\" class=\"dataframe\">\n",
       "  <thead>\n",
       "    <tr>\n",
       "      <th></th>\n",
       "      <th>sum</th>\n",
       "      <th>mean</th>\n",
       "    </tr>\n",
       "    <tr>\n",
       "      <th></th>\n",
       "      <th>survived</th>\n",
       "      <th>survived</th>\n",
       "    </tr>\n",
       "    <tr>\n",
       "      <th>pclass</th>\n",
       "      <th></th>\n",
       "      <th></th>\n",
       "    </tr>\n",
       "  </thead>\n",
       "  <tbody>\n",
       "    <tr>\n",
       "      <th>1</th>\n",
       "      <td>200</td>\n",
       "      <td>0.619195</td>\n",
       "    </tr>\n",
       "    <tr>\n",
       "      <th>2</th>\n",
       "      <td>119</td>\n",
       "      <td>0.429603</td>\n",
       "    </tr>\n",
       "    <tr>\n",
       "      <th>3</th>\n",
       "      <td>181</td>\n",
       "      <td>0.255289</td>\n",
       "    </tr>\n",
       "  </tbody>\n",
       "</table>\n",
       "</div>"
      ],
      "text/plain": [
       "            sum      mean\n",
       "       survived  survived\n",
       "pclass                   \n",
       "1           200  0.619195\n",
       "2           119  0.429603\n",
       "3           181  0.255289"
      ]
     },
     "execution_count": 256,
     "metadata": {},
     "output_type": "execute_result"
    }
   ],
   "source": [
    "Titanic_class_pivot = pd.pivot_table(titanic, index=[\"pclass\"], values=[\"survived\", \"deceased\"], aggfunc=[np.sum, np.mean])\n",
    "Titanic_class_pivot\n"
   ]
  },
  {
   "cell_type": "code",
   "execution_count": 44,
   "metadata": {
    "collapsed": false
   },
   "outputs": [
    {
     "data": {
      "text/plain": [
       "(127.85915643930326, 2)"
      ]
     },
     "execution_count": 44,
     "metadata": {},
     "output_type": "execute_result"
    }
   ],
   "source": [
    "import pandas as pd\n",
    "table = pd.crosstab(titanic['pclass'], titanic['survived'])\n",
    "table\n",
    "from scipy.stats import chi2_contingency\n",
    "chisq_value, pvalue_gender_income, df, expected = chi2_contingency(table)\n",
    "chisq_value, df"
   ]
  },
  {
   "cell_type": "markdown",
   "metadata": {},
   "source": [
    "#### Are there any groups that outperformed the survival of the latter group? (justify your response numerically)\n"
   ]
  },
  {
   "cell_type": "code",
   "execution_count": null,
   "metadata": {
    "collapsed": true
   },
   "outputs": [],
   "source": [
    "The biggest deciding factor effecting survival was gender.  Overall, almost 73% of women survived.\n",
    "The second highest factor was class, with first class having the best odds.\n",
    "Passengers who were of both categories - first class and female - had the best odds, with over 96% of them\n",
    "surviving the disaster."
   ]
  },
  {
   "cell_type": "markdown",
   "metadata": {
    "collapsed": true
   },
   "source": [
    "## Part 5:  Comparative Statistics:  Lusitania"
   ]
  },
  {
   "cell_type": "code",
   "execution_count": 224,
   "metadata": {
    "collapsed": false
   },
   "outputs": [
    {
     "name": "stdout",
     "output_type": "stream",
     "text": [
      "518 females\n",
      "1443 males\n",
      "1961 total Lusitania passengers\n"
     ]
    }
   ],
   "source": [
    "# total Lusitania passengers by gender\n",
    "lusitania_female_count = 0\n",
    "lusitania_male_count = 0\n",
    "for sex in lusitania['Sex']:\n",
    "    if sex =='0':\n",
    "        lusitania_female_count += 1\n",
    "    else:\n",
    "        lusitania_male_count += 1\n",
    "total_lusitania_passengers = lusitania_male_count + lusitania_female_count      \n",
    "print lusitania_female_count, \"females\"\n",
    "print lusitania_male_count, \"males\"\n",
    "print total_lusitania_passengers, \"total Lusitania passengers\""
   ]
  },
  {
   "cell_type": "markdown",
   "metadata": {
    "collapsed": true
   },
   "source": [
    "#### Are there any groups that were especially adversely affected in the Lusitania wreck? (justify your response numerically)"
   ]
  },
  {
   "cell_type": "code",
   "execution_count": 247,
   "metadata": {
    "collapsed": false,
    "scrolled": true
   },
   "outputs": [
    {
     "data": {
      "text/html": [
       "<div>\n",
       "<table border=\"1\" class=\"dataframe\">\n",
       "  <thead>\n",
       "    <tr>\n",
       "      <th></th>\n",
       "      <th></th>\n",
       "      <th colspan=\"2\" halign=\"left\">sum</th>\n",
       "      <th colspan=\"2\" halign=\"left\">mean</th>\n",
       "      <th colspan=\"2\" halign=\"left\">std</th>\n",
       "    </tr>\n",
       "    <tr>\n",
       "      <th></th>\n",
       "      <th></th>\n",
       "      <th>deceased</th>\n",
       "      <th>survived</th>\n",
       "      <th>deceased</th>\n",
       "      <th>survived</th>\n",
       "      <th>deceased</th>\n",
       "      <th>survived</th>\n",
       "    </tr>\n",
       "    <tr>\n",
       "      <th>Department/Class</th>\n",
       "      <th>Sex</th>\n",
       "      <th></th>\n",
       "      <th></th>\n",
       "      <th></th>\n",
       "      <th></th>\n",
       "      <th></th>\n",
       "      <th></th>\n",
       "    </tr>\n",
       "  </thead>\n",
       "  <tbody>\n",
       "    <tr>\n",
       "      <th rowspan=\"2\" valign=\"top\">1</th>\n",
       "      <th>Female</th>\n",
       "      <td>56</td>\n",
       "      <td>34</td>\n",
       "      <td>0.615385</td>\n",
       "      <td>0.373626</td>\n",
       "      <td>0.489200</td>\n",
       "      <td>0.486446</td>\n",
       "    </tr>\n",
       "    <tr>\n",
       "      <th>Male</th>\n",
       "      <td>121</td>\n",
       "      <td>78</td>\n",
       "      <td>0.605000</td>\n",
       "      <td>0.390000</td>\n",
       "      <td>0.490077</td>\n",
       "      <td>0.488974</td>\n",
       "    </tr>\n",
       "    <tr>\n",
       "      <th rowspan=\"2\" valign=\"top\">2</th>\n",
       "      <th>Female</th>\n",
       "      <td>185</td>\n",
       "      <td>108</td>\n",
       "      <td>0.629252</td>\n",
       "      <td>0.367347</td>\n",
       "      <td>0.483829</td>\n",
       "      <td>0.482904</td>\n",
       "    </tr>\n",
       "    <tr>\n",
       "      <th>Male</th>\n",
       "      <td>187</td>\n",
       "      <td>119</td>\n",
       "      <td>0.609121</td>\n",
       "      <td>0.387622</td>\n",
       "      <td>0.488744</td>\n",
       "      <td>0.488003</td>\n",
       "    </tr>\n",
       "    <tr>\n",
       "      <th rowspan=\"2\" valign=\"top\">3</th>\n",
       "      <th>Female</th>\n",
       "      <td>68</td>\n",
       "      <td>40</td>\n",
       "      <td>0.629630</td>\n",
       "      <td>0.370370</td>\n",
       "      <td>0.485155</td>\n",
       "      <td>0.485155</td>\n",
       "    </tr>\n",
       "    <tr>\n",
       "      <th>Male</th>\n",
       "      <td>168</td>\n",
       "      <td>94</td>\n",
       "      <td>0.641221</td>\n",
       "      <td>0.358779</td>\n",
       "      <td>0.480560</td>\n",
       "      <td>0.480560</td>\n",
       "    </tr>\n",
       "  </tbody>\n",
       "</table>\n",
       "</div>"
      ],
      "text/plain": [
       "                             sum               mean                 std  \\\n",
       "                        deceased survived  deceased  survived  deceased   \n",
       "Department/Class Sex                                                      \n",
       "1                Female       56       34  0.615385  0.373626  0.489200   \n",
       "                 Male        121       78  0.605000  0.390000  0.490077   \n",
       "2                Female      185      108  0.629252  0.367347  0.483829   \n",
       "                 Male        187      119  0.609121  0.387622  0.488744   \n",
       "3                Female       68       40  0.629630  0.370370  0.485155   \n",
       "                 Male        168       94  0.641221  0.358779  0.480560   \n",
       "\n",
       "                                   \n",
       "                         survived  \n",
       "Department/Class Sex               \n",
       "1                Female  0.486446  \n",
       "                 Male    0.488974  \n",
       "2                Female  0.482904  \n",
       "                 Male    0.488003  \n",
       "3                Female  0.485155  \n",
       "                 Male    0.480560  "
      ]
     },
     "execution_count": 247,
     "metadata": {},
     "output_type": "execute_result"
    }
   ],
   "source": [
    "Lusitania_pivot = pd.pivot_table(lusitania, index=[\"Department/Class\", \"Sex\"], values=[\"Age\", \"survived\", \"deceased\"],\n",
    "                               aggfunc=[np.sum, np.mean, np.std])\n",
    "Lusitania_pivot"
   ]
  },
  {
   "cell_type": "code",
   "execution_count": 249,
   "metadata": {
    "collapsed": false
   },
   "outputs": [
    {
     "data": {
      "text/html": [
       "<div>\n",
       "<table border=\"1\" class=\"dataframe\">\n",
       "  <thead>\n",
       "    <tr>\n",
       "      <th></th>\n",
       "      <th colspan=\"2\" halign=\"left\">sum</th>\n",
       "      <th colspan=\"2\" halign=\"left\">mean</th>\n",
       "    </tr>\n",
       "    <tr>\n",
       "      <th></th>\n",
       "      <th>deceased</th>\n",
       "      <th>survived</th>\n",
       "      <th>deceased</th>\n",
       "      <th>survived</th>\n",
       "    </tr>\n",
       "    <tr>\n",
       "      <th>Sex</th>\n",
       "      <th></th>\n",
       "      <th></th>\n",
       "      <th></th>\n",
       "      <th></th>\n",
       "    </tr>\n",
       "  </thead>\n",
       "  <tbody>\n",
       "    <tr>\n",
       "      <th>Female</th>\n",
       "      <td>309</td>\n",
       "      <td>182</td>\n",
       "      <td>0.626775</td>\n",
       "      <td>0.369168</td>\n",
       "    </tr>\n",
       "    <tr>\n",
       "      <th>Male</th>\n",
       "      <td>476</td>\n",
       "      <td>291</td>\n",
       "      <td>0.618986</td>\n",
       "      <td>0.378414</td>\n",
       "    </tr>\n",
       "  </tbody>\n",
       "</table>\n",
       "</div>"
      ],
      "text/plain": [
       "            sum               mean          \n",
       "       deceased survived  deceased  survived\n",
       "Sex                                         \n",
       "Female      309      182  0.626775  0.369168\n",
       "Male        476      291  0.618986  0.378414"
      ]
     },
     "execution_count": 249,
     "metadata": {},
     "output_type": "execute_result"
    }
   ],
   "source": [
    "Lusitania_sex_survival_pivot = pd.pivot_table(lusitania, index=[\"Sex\"], values=[\"survived\", \"deceased\"], aggfunc=[np.sum, np.mean])\n",
    "Lusitania_sex_survival_pivot"
   ]
  },
  {
   "cell_type": "code",
   "execution_count": 261,
   "metadata": {
    "collapsed": false
   },
   "outputs": [
    {
     "data": {
      "text/plain": [
       "(0.073675226466345889, 1)"
      ]
     },
     "execution_count": 261,
     "metadata": {},
     "output_type": "execute_result"
    }
   ],
   "source": [
    "import pandas as pd\n",
    "table3 = pd.crosstab(lusitania['Sex'], lusitania['survived'])\n",
    "table3\n",
    "from scipy.stats import chi2_contingency\n",
    "chisq_value, pvalue_gender_income, df, expected = chi2_contingency(table3)\n",
    "chisq_value, df"
   ]
  },
  {
   "cell_type": "code",
   "execution_count": 257,
   "metadata": {
    "collapsed": false,
    "scrolled": false
   },
   "outputs": [
    {
     "data": {
      "text/html": [
       "<div>\n",
       "<table border=\"1\" class=\"dataframe\">\n",
       "  <thead>\n",
       "    <tr>\n",
       "      <th></th>\n",
       "      <th colspan=\"2\" halign=\"left\">sum</th>\n",
       "      <th colspan=\"2\" halign=\"left\">mean</th>\n",
       "    </tr>\n",
       "    <tr>\n",
       "      <th></th>\n",
       "      <th>deceased</th>\n",
       "      <th>survived</th>\n",
       "      <th>deceased</th>\n",
       "      <th>survived</th>\n",
       "    </tr>\n",
       "    <tr>\n",
       "      <th>Department/Class</th>\n",
       "      <th></th>\n",
       "      <th></th>\n",
       "      <th></th>\n",
       "      <th></th>\n",
       "    </tr>\n",
       "  </thead>\n",
       "  <tbody>\n",
       "    <tr>\n",
       "      <th>1</th>\n",
       "      <td>177</td>\n",
       "      <td>112</td>\n",
       "      <td>0.608247</td>\n",
       "      <td>0.384880</td>\n",
       "    </tr>\n",
       "    <tr>\n",
       "      <th>2</th>\n",
       "      <td>372</td>\n",
       "      <td>227</td>\n",
       "      <td>0.618968</td>\n",
       "      <td>0.377704</td>\n",
       "    </tr>\n",
       "    <tr>\n",
       "      <th>3</th>\n",
       "      <td>236</td>\n",
       "      <td>134</td>\n",
       "      <td>0.637838</td>\n",
       "      <td>0.362162</td>\n",
       "    </tr>\n",
       "  </tbody>\n",
       "</table>\n",
       "</div>"
      ],
      "text/plain": [
       "                      sum               mean          \n",
       "                 deceased survived  deceased  survived\n",
       "Department/Class                                      \n",
       "1                     177      112  0.608247  0.384880\n",
       "2                     372      227  0.618968  0.377704\n",
       "3                     236      134  0.637838  0.362162"
      ]
     },
     "execution_count": 257,
     "metadata": {},
     "output_type": "execute_result"
    }
   ],
   "source": [
    "Lusitania_class_pivot = pd.pivot_table(lusitania, index=[\"Department/Class\"], values=[\"survived\", \"deceased\"], aggfunc=[np.sum, np.mean])\n",
    "Lusitania_class_pivot"
   ]
  },
  {
   "cell_type": "code",
   "execution_count": 262,
   "metadata": {
    "collapsed": false
   },
   "outputs": [
    {
     "data": {
      "text/plain": [
       "(0.39999129037096409, 2)"
      ]
     },
     "execution_count": 262,
     "metadata": {},
     "output_type": "execute_result"
    }
   ],
   "source": [
    "import pandas as pd\n",
    "table4 = pd.crosstab(lusitania['Department/Class'], lusitania['survived'])\n",
    "table4\n",
    "from scipy.stats import chi2_contingency\n",
    "chisq_value, pvalue_gender_income, df, expected = chi2_contingency(table4)\n",
    "chisq_value, df"
   ]
  },
  {
   "cell_type": "markdown",
   "metadata": {
    "collapsed": true
   },
   "source": [
    "#### Are there any groups that outperformed the survival of the latter group? (justify your response numerically)\n",
    "\n"
   ]
  },
  {
   "cell_type": "code",
   "execution_count": null,
   "metadata": {
    "collapsed": true
   },
   "outputs": [],
   "source": [
    "The survival rate on the Lusitania is very similar across gender and classes."
   ]
  },
  {
   "cell_type": "markdown",
   "metadata": {},
   "source": [
    "#### What does the group-wise survival rate imply about circumstances during these two accidents?"
   ]
  },
  {
   "cell_type": "markdown",
   "metadata": {
    "collapsed": true
   },
   "source": [
    "The large chi-squared values for the Titanic indicate that we must reject the null hypothesis that survival was independent of any other variables.  Conversely, with the Lusitania, we can accept the null hypothesis."
   ]
  }
 ],
 "metadata": {
  "anaconda-cloud": {},
  "kernelspec": {
   "display_name": "Python [conda root]",
   "language": "python",
   "name": "conda-root-py"
  },
  "language_info": {
   "codemirror_mode": {
    "name": "ipython",
    "version": 2
   },
   "file_extension": ".py",
   "mimetype": "text/x-python",
   "name": "python",
   "nbconvert_exporter": "python",
   "pygments_lexer": "ipython2",
   "version": "2.7.12"
  }
 },
 "nbformat": 4,
 "nbformat_minor": 0
}
